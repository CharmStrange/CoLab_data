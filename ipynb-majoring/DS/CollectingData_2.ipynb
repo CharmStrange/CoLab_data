{
  "nbformat": 4,
  "nbformat_minor": 0,
  "metadata": {
    "colab": {
      "provenance": [],
      "authorship_tag": "ABX9TyMq+COVtNBMam5A6pe3f0Qm",
      "include_colab_link": true
    },
    "kernelspec": {
      "name": "python3",
      "display_name": "Python 3"
    },
    "language_info": {
      "name": "python"
    }
  },
  "cells": [
    {
      "cell_type": "markdown",
      "metadata": {
        "id": "view-in-github",
        "colab_type": "text"
      },
      "source": [
        "<a href=\"https://colab.research.google.com/github/CharmStrange/CoLab_data/blob/main/ipynb-majoring/DS/CollectingData_2.ipynb\" target=\"_parent\"><img src=\"https://colab.research.google.com/assets/colab-badge.svg\" alt=\"Open In Colab\"/></a>"
      ]
    },
    {
      "cell_type": "code",
      "source": [
        "import requests\n",
        "\n",
        "url = \"https://www.ibm.com/\"\n",
        "r = requests.get(url)\n",
        "print( f'Status Code: {r.status_code}' )\n",
        "print( f'Request Header : {r.request.headers}' )\n",
        "print( f'Request Body : {r.request.body}' ) # None\n",
        "print( f'Response Message header : {r.headers}' )\n",
        "#print( r.headers['date'] )\n",
        "#print( r.headers['Content-Type'] )\n",
        "#print( r.text )"
      ],
      "metadata": {
        "colab": {
          "base_uri": "https://localhost:8080/"
        },
        "id": "hK6O1YnIxszg",
        "outputId": "3fbf4fb6-56c3-44d0-f43c-a0f2e0281848"
      },
      "execution_count": 15,
      "outputs": [
        {
          "output_type": "stream",
          "name": "stdout",
          "text": [
            "Status Code: 200\n",
            "Request Header : {'User-Agent': 'python-requests/2.31.0', 'Accept-Encoding': 'gzip, deflate', 'Accept': '*/*', 'Connection': 'keep-alive', 'Cookie': '_abck=C088799B14DE40859A437783C1B28A94~-1~YAAQz0A2F2y/+zqLAQAAZHjNPArMO7n25lZv7JT2Z5K3rUyMd1L/Eh8Cx6XzEVJLv0Byuf98rShfH8o9FGPO+t1Tm9aw4dD9qRSqkPzUTHQCLjlfWI2nC5VIzmv9NhDRFcE1g6aBd7s3kqnQH65bB4Vt7kVNkYEeY4x/lYHMwJE8vyC1zC3EMSdmf6SZTgFUfID0Hi0LXaIIdJuFxJ4qpgf+zXRyJElibnrUw8iT+T0hPzIxHEGjqZP4wbkMdKTiPPErLmJj+TJNTokjbhkFddex20VsFnfbnLFnKQGtCn4J4I4G6WTmqHBPGf8gOpGQTVcDJVg6F6us/KtWxKYfNRmxDMLf08MtghIVOT25S4Pi15SWY3A=~-1~-1~-1; bm_sz=28C63DA445F24553174D2AEF70A098FE~YAAQz0A2F22/+zqLAQAAZHjNPBUvGHEVSYIRhyC3rEkLya68UzTP3lx2lAM1GivKV05XNp+0/RVlO5pJb7XBdt27tJUlec2I9tQfOn17dqt02fUv22SK1DUWeF5BFg2p5X6pJgX9rkhwRNJKsGGd1LOfoZMMWqrSXpgcgEyQy852n8wEUrEDQHBBilBa34OOz5F0WEtM+j/xPl2EkrEVcW4ANOq9kOuFO0QquGfGOi4HiZoOD+8zdw2c6U6DNFbOAlDIv1vOzsF7roNeLpVKEh6S+aUAacJmyv+Y4AqYetM=~3617591~4604482'}\n",
            "Request Body : None\n",
            "Response Message header : {'Content-Type': 'text/html;charset=utf-8', 'X-Dispatcher': 'prod-publish-0', 'X-Vhost': 'publish', 'X-Content-Type-Options': 'nosniff', 'Last-Modified': 'Tue, 17 Oct 2023 08:34:08 GMT', 'X-Frame-Options': 'SAMEORIGIN', 'CF-Cache-Status': 'DYNAMIC', 'Server': 'cloudflare', 'CF-RAY': '8177360498cf9c22-IAD', 'Cache-Control': 'max-age=437', 'Expires': 'Tue, 17 Oct 2023 08:50:17 GMT', 'X-Akamai-Transformed': '9 12794 0 pmb=mTOE,2', 'Content-Encoding': 'gzip', 'Date': 'Tue, 17 Oct 2023 08:43:00 GMT', 'Content-Length': '13043', 'Connection': 'keep-alive', 'Vary': 'Accept-Encoding', 'Strict-Transport-Security': 'max-age=31536000'}\n"
          ]
        }
      ]
    }
  ]
}