{
  "nbformat": 4,
  "nbformat_minor": 0,
  "metadata": {
    "colab": {
      "provenance": [],
      "authorship_tag": "ABX9TyNJLIHobnXdQpcTKZ799wwf",
      "include_colab_link": true
    },
    "kernelspec": {
      "name": "python3",
      "display_name": "Python 3"
    },
    "language_info": {
      "name": "python"
    }
  },
  "cells": [
    {
      "cell_type": "markdown",
      "metadata": {
        "id": "view-in-github",
        "colab_type": "text"
      },
      "source": [
        "<a href=\"https://colab.research.google.com/github/CharmStrange/CoLab_data/blob/main/ipynb-majoring/DS/CollectingData_4.ipynb\" target=\"_parent\"><img src=\"https://colab.research.google.com/assets/colab-badge.svg\" alt=\"Open In Colab\"/></a>"
      ]
    },
    {
      "cell_type": "markdown",
      "source": [
        "# BeautifulSoup"
      ],
      "metadata": {
        "id": "ASVsnsG6J0h2"
      }
    },
    {
      "cell_type": "code",
      "source": [
        "from bs4 import BeautifulSoup\n",
        "import requests"
      ],
      "metadata": {
        "id": "MKNVZLbTJzPT"
      },
      "execution_count": 1,
      "outputs": []
    },
    {
      "cell_type": "markdown",
      "source": [
        "### HTML 코드를 BeautifulSoup 객체로 사용"
      ],
      "metadata": {
        "id": "HyHxVhzqKVQU"
      }
    },
    {
      "cell_type": "code",
      "source": [
        "html=\"<!DOCTYPE html><html><head><title>Page Title</title></head><body><h3><b id='boldest'>Lebron James</b></h3><p> Salary: $ 92,000,000 </p><h3> Stephen Curry</h3><p> Salary: $85,000, 000 </p><h3> Kevin Durant </h3><p> Salary: $73,200, 000</p></body></html>\""
      ],
      "metadata": {
        "id": "ixdbWsojKC2C"
      },
      "execution_count": 2,
      "outputs": []
    },
    {
      "cell_type": "code",
      "source": [
        "soup = BeautifulSoup(html, 'html5lib')\n",
        "print(soup, '\\n')\n",
        "print(soup.prettify())"
      ],
      "metadata": {
        "colab": {
          "base_uri": "https://localhost:8080/"
        },
        "id": "5YsgTZY_KIHa",
        "outputId": "9a5bbb2d-40ff-4a93-b85a-4f69818e6a28"
      },
      "execution_count": 4,
      "outputs": [
        {
          "output_type": "stream",
          "name": "stdout",
          "text": [
            "<!DOCTYPE html>\n",
            "<html><head><title>Page Title</title></head><body><h3><b id=\"boldest\">Lebron James</b></h3><p> Salary: $ 92,000,000 </p><h3> Stephen Curry</h3><p> Salary: $85,000, 000 </p><h3> Kevin Durant </h3><p> Salary: $73,200, 000</p></body></html> \n",
            "\n",
            "<!DOCTYPE html>\n",
            "<html>\n",
            " <head>\n",
            "  <title>\n",
            "   Page Title\n",
            "  </title>\n",
            " </head>\n",
            " <body>\n",
            "  <h3>\n",
            "   <b id=\"boldest\">\n",
            "    Lebron James\n",
            "   </b>\n",
            "  </h3>\n",
            "  <p>\n",
            "   Salary: $ 92,000,000\n",
            "  </p>\n",
            "  <h3>\n",
            "   Stephen Curry\n",
            "  </h3>\n",
            "  <p>\n",
            "   Salary: $85,000, 000\n",
            "  </p>\n",
            "  <h3>\n",
            "   Kevin Durant\n",
            "  </h3>\n",
            "  <p>\n",
            "   Salary: $73,200, 000\n",
            "  </p>\n",
            " </body>\n",
            "</html>\n"
          ]
        }
      ]
    },
    {
      "cell_type": "code",
      "source": [
        "# HTML 태그 추출\n",
        "\n",
        "tag_object1 = soup.title\n",
        "print(f'tag object:{tag_object1}')\n",
        "\n",
        "tag_object2 = soup.h3\n",
        "print(f'tag object:{tag_object2}')\n",
        "\n",
        "tag_child = tag_object2.b\n",
        "print(tag_child)\n",
        "\n",
        "tag_parent = tag_child.parent\n",
        "print(tag_parent)\n",
        "\n",
        "print(tag_object2.parent)\n",
        "\n",
        "sibling1 = tag_object2.next_sibling\n",
        "print(sibling1)\n",
        "\n",
        "sibling2 = sibling1.next_sibling\n",
        "print(sibling2)\n",
        "\n",
        "sibling3 = sibling2.next_sibling\n",
        "print(sibling3)"
      ],
      "metadata": {
        "colab": {
          "base_uri": "https://localhost:8080/"
        },
        "id": "Kscz1mWCKTK9",
        "outputId": "1d90939f-6422-4eeb-f15f-134d2ac5fd95"
      },
      "execution_count": 11,
      "outputs": [
        {
          "output_type": "stream",
          "name": "stdout",
          "text": [
            "tag object:<title>Page Title</title>\n",
            "tag object:<h3><b id=\"boldest\">Lebron James</b></h3>\n",
            "<b id=\"boldest\">Lebron James</b>\n",
            "<h3><b id=\"boldest\">Lebron James</b></h3>\n",
            "<body><h3><b id=\"boldest\">Lebron James</b></h3><p> Salary: $ 92,000,000 </p><h3> Stephen Curry</h3><p> Salary: $85,000, 000 </p><h3> Kevin Durant </h3><p> Salary: $73,200, 000</p></body>\n",
            "<p> Salary: $ 92,000,000 </p>\n",
            "<h3> Stephen Curry</h3>\n",
            "<p> Salary: $85,000, 000 </p>\n"
          ]
        }
      ]
    },
    {
      "cell_type": "code",
      "source": [
        "# 태그 속성\n",
        "\n",
        "print(tag_child['id'])\n",
        "print(tag_child.attrs)\n",
        "print(tag_child.get('id'))"
      ],
      "metadata": {
        "colab": {
          "base_uri": "https://localhost:8080/"
        },
        "id": "zfyEO9WWMRfY",
        "outputId": "122da302-437e-4be6-8ed2-32876344f032"
      },
      "execution_count": 13,
      "outputs": [
        {
          "output_type": "stream",
          "name": "stdout",
          "text": [
            "boldest\n",
            "{'id': 'boldest'}\n",
            "boldest\n"
          ]
        }
      ]
    },
    {
      "cell_type": "code",
      "source": [
        "tag_str = tag_child.string\n",
        "print(tag_str, type(tag_str)) # bs4.element.NavigableString\n",
        "str(tag_str) # bs4.element.NavigableString -> string"
      ],
      "metadata": {
        "colab": {
          "base_uri": "https://localhost:8080/",
          "height": 54
        },
        "id": "brh3yNqUMobW",
        "outputId": "651b66ec-598e-4c0c-d69c-0c9000e4ba58"
      },
      "execution_count": 16,
      "outputs": [
        {
          "output_type": "stream",
          "name": "stdout",
          "text": [
            "Lebron James <class 'bs4.element.NavigableString'>\n"
          ]
        },
        {
          "output_type": "execute_result",
          "data": {
            "text/plain": [
              "'Lebron James'"
            ],
            "application/vnd.google.colaboratory.intrinsic+json": {
              "type": "string"
            }
          },
          "metadata": {},
          "execution_count": 16
        }
      ]
    },
    {
      "cell_type": "markdown",
      "source": [
        "---\n",
        "\n",
        "### HTML - table 코드를 BeautifulSoup 객체로 사용"
      ],
      "metadata": {
        "id": "XzxjBajLNRze"
      }
    },
    {
      "cell_type": "code",
      "source": [
        "table=\"<table><tr><td id='flight'>Flight No</td><td>Launch site</td> <td>Payload mass</td></tr><tr><td>1</td><td><a href='https://en.wikipedia.org/wiki/Florida'>Florida<a></td><td>300 kg</td></tr><tr><td>2</td><td><a href='https://en.wikipedia.org/wiki/Texas'>Texas</a></td><td>94 kg</td></tr><tr><td>3</td><td><a href='https://en.wikipedia.org/wiki/Florida'>Florida<a> </td><td>80 kg</td></tr></table>\""
      ],
      "metadata": {
        "id": "MKabwot5NDHH"
      },
      "execution_count": 17,
      "outputs": []
    },
    {
      "cell_type": "code",
      "source": [
        "table_bs = BeautifulSoup(table, 'html5lib')\n",
        "print(table_bs.prettify())"
      ],
      "metadata": {
        "id": "UerJwi32NV3f"
      },
      "execution_count": null,
      "outputs": []
    },
    {
      "cell_type": "markdown",
      "source": [
        "BeautifulSoup 객체의 메소드 `find_all(name, attrs, recursive, string, limit, **kwargs)`의 매개 변수 알아보기"
      ],
      "metadata": {
        "id": "WxOlXSzKN9dv"
      }
    },
    {
      "cell_type": "code",
      "source": [
        "# Filter\n",
        "\n",
        "table_rows = table_bs.find_all(name='tr') # name : <tr> tag, tolist!\n",
        "for i, row in enumerate(table_rows) :\n",
        "    print(f\"{i} : {row}\")\n",
        "\n",
        "print( table_bs.find_all(id='flight') ) # attrs : <id> tag\n",
        "print( table_bs.find_all(href=True) ) # attrs : <href> tag\n",
        "\n",
        "print( table_bs.find_all(string='Florida') ) # string : 'Florida'"
      ],
      "metadata": {
        "colab": {
          "base_uri": "https://localhost:8080/"
        },
        "id": "Kvn6m8pONgjO",
        "outputId": "5a612d33-17d5-4056-88ac-111791ac0aaf"
      },
      "execution_count": 22,
      "outputs": [
        {
          "output_type": "stream",
          "name": "stdout",
          "text": [
            "0 : <tr><td id=\"flight\">Flight No</td><td>Launch site</td> <td>Payload mass</td></tr>\n",
            "1 : <tr><td>1</td><td><a href=\"https://en.wikipedia.org/wiki/Florida\">Florida</a><a></a></td><td>300 kg</td></tr>\n",
            "2 : <tr><td>2</td><td><a href=\"https://en.wikipedia.org/wiki/Texas\">Texas</a></td><td>94 kg</td></tr>\n",
            "3 : <tr><td>3</td><td><a href=\"https://en.wikipedia.org/wiki/Florida\">Florida</a><a> </a></td><td>80 kg</td></tr>\n",
            "[<td id=\"flight\">Flight No</td>]\n",
            "[<a href=\"https://en.wikipedia.org/wiki/Florida\">Florida</a>, <a href=\"https://en.wikipedia.org/wiki/Texas\">Texas</a>, <a href=\"https://en.wikipedia.org/wiki/Florida\">Florida</a>]\n"
          ]
        }
      ]
    }
  ]
}