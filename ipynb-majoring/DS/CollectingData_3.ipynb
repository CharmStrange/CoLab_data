{
  "nbformat": 4,
  "nbformat_minor": 0,
  "metadata": {
    "colab": {
      "provenance": [],
      "authorship_tag": "ABX9TyOB31xTEFB8Fqy+L46XaYlU",
      "include_colab_link": true
    },
    "kernelspec": {
      "name": "python3",
      "display_name": "Python 3"
    },
    "language_info": {
      "name": "python"
    }
  },
  "cells": [
    {
      "cell_type": "markdown",
      "metadata": {
        "id": "view-in-github",
        "colab_type": "text"
      },
      "source": [
        "<a href=\"https://colab.research.google.com/github/CharmStrange/CoLab_data/blob/main/ipynb-majoring/DS/CollectingData_3.ipynb\" target=\"_parent\"><img src=\"https://colab.research.google.com/assets/colab-badge.svg\" alt=\"Open In Colab\"/></a>"
      ]
    },
    {
      "cell_type": "markdown",
      "source": [
        "# JSON & XML 다루기"
      ],
      "metadata": {
        "id": "kFQCAMWJRnc8"
      }
    },
    {
      "cell_type": "code",
      "source": [
        "import json"
      ],
      "metadata": {
        "id": "qCjRQU7jRqwC"
      },
      "execution_count": 25,
      "outputs": []
    },
    {
      "cell_type": "code",
      "source": [
        "# JSON : 딕셔너리 형태\n",
        "\n",
        "object = {\n",
        "    'ID' : 1,\n",
        "    'Class' : 'Object',\n",
        "    'Type' : None,\n",
        "    'Attribute' : { 'Reverse-Type' : 'IV', 'R' : 99, 'G' : 210, 'B' : 234 }\n",
        "}"
      ],
      "metadata": {
        "id": "AT0EVHY_RtwZ"
      },
      "execution_count": 23,
      "outputs": []
    },
    {
      "cell_type": "code",
      "source": [
        "with open('Obj.json', 'w') as F : json.dump(object, F) #1\n",
        "json_object = json.dumps(object, indent=4) #2\n",
        "with open('Obj.json', 'w') as F : F.write(json_object)"
      ],
      "metadata": {
        "id": "LKjmSzLwSnXg"
      },
      "execution_count": 27,
      "outputs": []
    },
    {
      "cell_type": "code",
      "source": [
        "with open('Obj.json', 'r') as F : json_object = json.load(F)\n",
        "print(json_object)\n",
        "print(type(json_object))"
      ],
      "metadata": {
        "colab": {
          "base_uri": "https://localhost:8080/"
        },
        "id": "9aPyaIcjTQHF",
        "outputId": "a1650707-b340-4fb2-bca1-3484feb42864"
      },
      "execution_count": 28,
      "outputs": [
        {
          "output_type": "stream",
          "name": "stdout",
          "text": [
            "{'ID': 1, 'Class': 'Object', 'Type': None, 'Attribute': {'Reverse-Type': 'IV', 'R': 99, 'G': 210, 'B': 234}}\n",
            "<class 'dict'>\n"
          ]
        }
      ]
    },
    {
      "cell_type": "markdown",
      "source": [
        "---"
      ],
      "metadata": {
        "id": "SHzlPrDqTvvX"
      }
    },
    {
      "cell_type": "code",
      "source": [
        "import xml.etree.ElementTree as ET # XML 트리 구조 이해"
      ],
      "metadata": {
        "id": "9K8wBFpLTxgA"
      },
      "execution_count": 29,
      "outputs": []
    },
    {
      "cell_type": "code",
      "source": [
        "xml = ET.Element('XML')\n",
        "\n",
        "ID = ET.SubElement(xml, 'ID')\n",
        "Class = ET.SubElement(xml, 'Class')\n",
        "Type = ET.SubElement(xml, 'Type')\n",
        "Attribute = ET.SubElement(xml, 'Attribute')\n",
        "\n",
        "Reverse_Type = ET.SubElement(Attribute, 'Reverse_Type'); Reverse_Type.text = 'IV'\n",
        "R = ET.SubElement(Attribute, 'R'); R.text = '99'\n",
        "G = ET.SubElement(Attribute, 'G'); G.text = '210'\n",
        "B = ET.SubElement(Attribute, 'B'); B.text = '234'\n",
        "\n",
        "XML = ET.ElementTree(xml)\n",
        "\n",
        "with open('XML.xml', 'wb') as F : XML.write(F)"
      ],
      "metadata": {
        "id": "CJR0uA0XT4Pf"
      },
      "execution_count": 34,
      "outputs": []
    }
  ]
}