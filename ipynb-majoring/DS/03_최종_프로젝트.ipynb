{
  "nbformat": 4,
  "nbformat_minor": 0,
  "metadata": {
    "colab": {
      "provenance": [],
      "collapsed_sections": [
        "T6nafL_jymmS"
      ],
      "authorship_tag": "ABX9TyNVcVy47fN7pX3aywy4StF1",
      "include_colab_link": true
    },
    "kernelspec": {
      "name": "python3",
      "display_name": "Python 3"
    },
    "language_info": {
      "name": "python"
    }
  },
  "cells": [
    {
      "cell_type": "markdown",
      "metadata": {
        "id": "view-in-github",
        "colab_type": "text"
      },
      "source": [
        "<a href=\"https://colab.research.google.com/github/CharmStrange/CoLab_data/blob/main/ipynb-majoring/DS/03_%EC%B5%9C%EC%A2%85_%ED%94%84%EB%A1%9C%EC%A0%9D%ED%8A%B8.ipynb\" target=\"_parent\"><img src=\"https://colab.research.google.com/assets/colab-badge.svg\" alt=\"Open In Colab\"/></a>"
      ]
    },
    {
      "cell_type": "markdown",
      "source": [
        "사용한 데이터셋 : https://www.kaggle.com/datasets/joebeachcapital/fast-food?select=FastFoodNutritionMenuV2.csv\n",
        "\n",
        "+ 하나 더?"
      ],
      "metadata": {
        "id": "E4X3Rj3KwWV6"
      }
    },
    {
      "cell_type": "markdown",
      "source": [
        "# 주제"
      ],
      "metadata": {
        "id": "gtt94RZc-gvg"
      }
    },
    {
      "cell_type": "markdown",
      "source": [
        "## 내용"
      ],
      "metadata": {
        "id": "c7RoNP1q-ibw"
      }
    },
    {
      "cell_type": "markdown",
      "source": [
        "# 1단계"
      ],
      "metadata": {
        "id": "RmDEuqYY-jXM"
      }
    },
    {
      "cell_type": "markdown",
      "source": [
        "## ..."
      ],
      "metadata": {
        "id": "7uunvwSS-lkG"
      }
    },
    {
      "cell_type": "markdown",
      "source": [
        "# 2단계"
      ],
      "metadata": {
        "id": "Y4OadDtB-mm8"
      }
    },
    {
      "cell_type": "markdown",
      "source": [
        "## ..."
      ],
      "metadata": {
        "id": "rcAr8b4v-nrF"
      }
    },
    {
      "cell_type": "markdown",
      "source": [
        "# 3단계"
      ],
      "metadata": {
        "id": "1AaKDF4w-o5H"
      }
    },
    {
      "cell_type": "markdown",
      "source": [
        "## ..."
      ],
      "metadata": {
        "id": "XKor8L3Z-p9y"
      }
    },
    {
      "cell_type": "markdown",
      "source": [
        "# 결론"
      ],
      "metadata": {
        "id": "LmeXQrso-qtw"
      }
    },
    {
      "cell_type": "markdown",
      "source": [
        "## ..."
      ],
      "metadata": {
        "id": "L9NgV_6_-rqX"
      }
    }
  ]
}