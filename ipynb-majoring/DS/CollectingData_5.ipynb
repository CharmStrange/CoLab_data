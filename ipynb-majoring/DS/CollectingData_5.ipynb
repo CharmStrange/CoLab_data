{
  "nbformat": 4,
  "nbformat_minor": 0,
  "metadata": {
    "colab": {
      "provenance": [],
      "authorship_tag": "ABX9TyNa9Ji3iULfsfSA36fge6OY",
      "include_colab_link": true
    },
    "kernelspec": {
      "name": "python3",
      "display_name": "Python 3"
    },
    "language_info": {
      "name": "python"
    }
  },
  "cells": [
    {
      "cell_type": "markdown",
      "metadata": {
        "id": "view-in-github",
        "colab_type": "text"
      },
      "source": [
        "<a href=\"https://colab.research.google.com/github/CharmStrange/CoLab_data/blob/main/ipynb-majoring/DS/CollectingData_5.ipynb\" target=\"_parent\"><img src=\"https://colab.research.google.com/assets/colab-badge.svg\" alt=\"Open In Colab\"/></a>"
      ]
    },
    {
      "cell_type": "markdown",
      "source": [
        "# 기말 1차 프로젝트"
      ],
      "metadata": {
        "id": "KEUnBSd8B9aV"
      }
    },
    {
      "cell_type": "code",
      "source": [
        "import os\n",
        "import requests\n",
        "from bs4 import BeautifulSoup as BS\n",
        "import pandas as pd\n",
        "\n",
        "url = \"https://stackoverflow.com/search?q=error\"\n",
        "response = requests.get(url)\n",
        "\n",
        "if response.status_code == 200:\n",
        "    soup = BS(response.text, 'html.parser')\n",
        "\n",
        "    tag_elements = soup.find_all(\"span\")\n",
        "\n",
        "    for tag_element in tag_elements:\n",
        "        print(tag_element.text)\n",
        "else:\n",
        "    print(\"HTTP 요청에 실패했습니다. 상태 코드:\", response.status_code)"
      ],
      "metadata": {
        "colab": {
          "base_uri": "https://localhost:8080/"
        },
        "id": "g_boyckWB85e",
        "outputId": "e4b04e90-d671-44ce-d92b-d4fa29075b0d"
      },
      "execution_count": 6,
      "outputs": [
        {
          "output_type": "stream",
          "name": "stdout",
          "text": [
            "\n",
            "Stack Overflow\n",
            "Stack Overflow\n",
            "Public questions & answers\n",
            "Stack Overflow for Teams\n",
            "Where developers & technologists share private knowledge with coworkers\n",
            "Talent\n",
            "\r\n",
            "\t\t\t\t\t\t\t\tBuild your employer brand\r\n",
            "\t\t\t\t\t\t\t\n",
            "Advertising\n",
            "Reach developers & technologists worldwide\n",
            "Labs\n",
            "The future of collective knowledge sharing\n",
            "\n",
            "\r\n",
            "            Stack Overflow\r\n",
            "        \n",
            "\n",
            "\r\n",
            "            Meta Stack Overflow\r\n",
            "        \n",
            "Questions\n",
            "Explore Collectives\n",
            "Discussions\n",
            "CC BY-SA\n",
            "rev 2023.10.27.43697\n"
          ]
        }
      ]
    }
  ]
}