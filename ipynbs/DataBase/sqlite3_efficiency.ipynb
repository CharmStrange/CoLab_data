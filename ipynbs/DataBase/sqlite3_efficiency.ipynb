{
  "nbformat": 4,
  "nbformat_minor": 0,
  "metadata": {
    "colab": {
      "provenance": [],
      "authorship_tag": "ABX9TyM/oaLhv5lj2kIFYQ2IWEaY",
      "include_colab_link": true
    },
    "kernelspec": {
      "name": "python3",
      "display_name": "Python 3"
    },
    "language_info": {
      "name": "python"
    }
  },
  "cells": [
    {
      "cell_type": "markdown",
      "metadata": {
        "id": "view-in-github",
        "colab_type": "text"
      },
      "source": [
        "<a href=\"https://colab.research.google.com/github/CharmStrange/CoLab_data/blob/main/ipynbs/DataBase/sqlite3_efficiency.ipynb\" target=\"_parent\"><img src=\"https://colab.research.google.com/assets/colab-badge.svg\" alt=\"Open In Colab\"/></a>"
      ]
    },
    {
      "cell_type": "markdown",
      "source": [
        "# 효율적으로 sqlite3 사용하기"
      ],
      "metadata": {
        "id": "Q3auIjXuRw6n"
      }
    },
    {
      "cell_type": "markdown",
      "source": [
        "## 바로 가기 메서드 사용하기\n",
        "Connection 객체의 비표준 execute(), executemany() 및 executescript() 메서드를 사용하면, (종종 불필요한) Cursor 객체를 명시적으로 만들 필요가 없으므로, 코드를 더 간결하게 작성할 수 있습니다. 대신, Cursor 객체가 묵시적으로 만들어지며 이러한 바로 가기 메서드는 커서 객체를 반환합니다. 이런 방법으로, Connection 객체에 대한 단일 호출만 사용하여 SELECT 문을 실행하고 직접 이터레이트할 수 있습니다."
      ],
      "metadata": {
        "id": "xUurEVLmTizm"
      }
    },
    {
      "cell_type": "code",
      "execution_count": 2,
      "metadata": {
        "colab": {
          "base_uri": "https://localhost:8080/"
        },
        "id": "cpmz8EwXKZsu",
        "outputId": "9855b760-0a19-4703-e37b-f8e5675170fa"
      },
      "outputs": [
        {
          "output_type": "stream",
          "name": "stdout",
          "text": [
            "('Hugo', 'Boss')\n",
            "('Calvin', 'Klein')\n",
            "I just deleted 2 rows\n"
          ]
        }
      ],
      "source": [
        "import sqlite3\n",
        "\n",
        "persons = [\n",
        "    (\"Hugo\", \"Boss\"),\n",
        "    (\"Calvin\", \"Klein\")\n",
        "    ]\n",
        "\n",
        "con = sqlite3.connect(\":memory:\")\n",
        "\n",
        "# Create the table\n",
        "con.execute(\"create table person(firstname, lastname)\")\n",
        "\n",
        "# Fill the table\n",
        "con.executemany(\"insert into person(firstname, lastname) values (?, ?)\", persons)\n",
        "\n",
        "# Print the table contents\n",
        "for row in con.execute(\"select firstname, lastname from person\"):\n",
        "    print(row)\n",
        "\n",
        "print(\"I just deleted\", con.execute(\"delete from person\").rowcount, \"rows\")\n",
        "\n",
        "# close is not a shortcut method and it's not called automatically,\n",
        "# so the connection object should be closed manually\n",
        "con.close()"
      ]
    },
    {
      "cell_type": "markdown",
      "source": [
        "## 인덱스 대신 이름으로 열 액세스하기\n",
        "sqlite3 모듈의 유용한 기능 중 하나는 행 팩토리로 사용하도록 설계된 내장 sqlite3.Row 클래스입니다.\n",
        "\n",
        "이 클래스로 감싼 행은 인덱스(튜플처럼)와 대소 문자를 구분하지 않는 이름으로 액세스할 수 있습니다:"
      ],
      "metadata": {
        "id": "caRrmIQTTz-h"
      }
    },
    {
      "cell_type": "code",
      "source": [
        "import sqlite3\n",
        "\n",
        "con = sqlite3.connect(\":memory:\")\n",
        "con.row_factory = sqlite3.Row\n",
        "\n",
        "cur = con.cursor()\n",
        "cur.execute(\"select 'John' as name, 42 as age\")\n",
        "for row in cur:\n",
        "    assert row[0] == row[\"name\"]\n",
        "    assert row[\"name\"] == row[\"nAmE\"]\n",
        "    assert row[1] == row[\"age\"]\n",
        "    assert row[1] == row[\"AgE\"]\n",
        "\n",
        "con.close()"
      ],
      "metadata": {
        "id": "JM-4hCXbT3ph"
      },
      "execution_count": 3,
      "outputs": []
    },
    {
      "cell_type": "markdown",
      "source": [
        "## 컨텍스트 관리자로 연결 사용하기\n",
        "연결 객체는 트랜잭션을 자동으로 커밋하거나 롤백하는 컨텍스트 관리자로 사용할 수 있습니다. 예외가 발생하면, 트랜잭션이 롤백 됩니다; 그렇지 않으면 트랜잭션이 커밋 됩니다:"
      ],
      "metadata": {
        "id": "s7AX_0utT5SW"
      }
    },
    {
      "cell_type": "code",
      "source": [
        "import sqlite3\n",
        "\n",
        "con = sqlite3.connect(\":memory:\")\n",
        "con.execute(\"create table person (id integer primary key, firstname varchar unique)\")\n",
        "\n",
        "# Successful, con.commit() is called automatically afterwards\n",
        "with con:\n",
        "    con.execute(\"insert into person(firstname) values (?)\", (\"Joe\",))\n",
        "\n",
        "# con.rollback() is called after the with block finishes with an exception, the\n",
        "# exception is still raised and must be caught\n",
        "try:\n",
        "    with con:\n",
        "        con.execute(\"insert into person(firstname) values (?)\", (\"Joe\",))\n",
        "except sqlite3.IntegrityError:\n",
        "    print(\"couldn't add Joe twice\")\n",
        "\n",
        "# Connection object used as context manager only commits or rollbacks transactions,\n",
        "# so the connection object should be closed manually\n",
        "con.close()"
      ],
      "metadata": {
        "colab": {
          "base_uri": "https://localhost:8080/"
        },
        "id": "D9Kdu26OT6rW",
        "outputId": "126d4db9-c225-4b78-f03d-8fe701b75648"
      },
      "execution_count": 4,
      "outputs": [
        {
          "output_type": "stream",
          "name": "stdout",
          "text": [
            "couldn't add Joe twice\n"
          ]
        }
      ]
    }
  ]
}