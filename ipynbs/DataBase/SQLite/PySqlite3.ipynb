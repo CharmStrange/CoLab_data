{
  "nbformat": 4,
  "nbformat_minor": 0,
  "metadata": {
    "colab": {
      "provenance": [],
      "authorship_tag": "ABX9TyN9T3Zwo4AoyHzXvWX+AK4n",
      "include_colab_link": true
    },
    "kernelspec": {
      "name": "python3",
      "display_name": "Python 3"
    },
    "language_info": {
      "name": "python"
    }
  },
  "cells": [
    {
      "cell_type": "markdown",
      "metadata": {
        "id": "view-in-github",
        "colab_type": "text"
      },
      "source": [
        "<a href=\"https://colab.research.google.com/github/CharmStrange/CoLab_data/blob/main/ipynbs/DataBase/PySqlite3.ipynb\" target=\"_parent\"><img src=\"https://colab.research.google.com/assets/colab-badge.svg\" alt=\"Open In Colab\"/></a>"
      ]
    },
    {
      "cell_type": "code",
      "execution_count": 1,
      "metadata": {
        "colab": {
          "base_uri": "https://localhost:8080/"
        },
        "id": "Sh690GntZkEg",
        "outputId": "8a5cedf8-59a5-4e0a-c03c-c4b247b057cf"
      },
      "outputs": [
        {
          "output_type": "stream",
          "name": "stdout",
          "text": [
            "(1, 'JohnDoe', 'johndoe@example.com')\n",
            "(2, 'JaneSmith', 'janesmith@example.com')\n"
          ]
        }
      ],
      "source": [
        "import sqlite3\n",
        "\n",
        "# 데이터베이스 연결\n",
        "conn = sqlite3.connect('mydatabase.db')\n",
        "\n",
        "# 커서 생성\n",
        "cursor = conn.cursor()\n",
        "\n",
        "# 테이블 생성\n",
        "cursor.execute('''\n",
        "    CREATE TABLE IF NOT EXISTS users (\n",
        "        id INTEGER PRIMARY KEY,\n",
        "        username TEXT,\n",
        "        email TEXT\n",
        "    )\n",
        "''')\n",
        "\n",
        "# 데이터 추가\n",
        "cursor.execute(\"INSERT INTO users (username, email) VALUES (?, ?)\", ('JohnDoe', 'johndoe@example.com'))\n",
        "cursor.execute(\"INSERT INTO users (username, email) VALUES (?, ?)\", ('JaneSmith', 'janesmith@example.com'))\n",
        "\n",
        "# 변경사항 저장\n",
        "conn.commit()\n",
        "\n",
        "# 데이터 조회\n",
        "cursor.execute(\"SELECT * FROM users\")\n",
        "for row in cursor.fetchall():\n",
        "    print(row)\n",
        "\n",
        "# 연결 종료\n",
        "conn.close()\n"
      ]
    }
  ]
}
