{
  "nbformat": 4,
  "nbformat_minor": 0,
  "metadata": {
    "colab": {
      "provenance": [],
      "authorship_tag": "ABX9TyN6KlIH0CAWIMYmV2AyC0jV",
      "include_colab_link": true
    },
    "kernelspec": {
      "name": "python3",
      "display_name": "Python 3"
    },
    "language_info": {
      "name": "python"
    }
  },
  "cells": [
    {
      "cell_type": "markdown",
      "metadata": {
        "id": "view-in-github",
        "colab_type": "text"
      },
      "source": [
        "<a href=\"https://colab.research.google.com/github/CharmStrange/CoLab_data/blob/main/ipynbs/DataBase/CustomDB.ipynb\" target=\"_parent\"><img src=\"https://colab.research.google.com/assets/colab-badge.svg\" alt=\"Open In Colab\"/></a>"
      ]
    },
    {
      "cell_type": "markdown",
      "source": [
        "# Custom Database\n"
      ],
      "metadata": {
        "id": "5doMEUq0Eo73"
      }
    },
    {
      "cell_type": "code",
      "execution_count": 1,
      "metadata": {
        "id": "pf0He8-EEXOu"
      },
      "outputs": [],
      "source": [
        "import os\n",
        "import datetime as dt\n",
        "import ctypes as ct\n",
        "import numpy as np\n",
        "import sqlite3\n",
        "\n",
        "class Struct(ct.Structure):\n",
        "    # fields are customizable\n",
        "    _fields_ = [\n",
        "        ('Header', ct.c_short),\n",
        "        ('Data_int', ct.c_int),\n",
        "        ('Data_double', ct.c_double)\n",
        "               ]\n",
        "\n",
        "    def __init__(self):\n",
        "        pass\n",
        "\n",
        "    def __del__(self):\n",
        "        pass\n",
        "\n",
        "    def push(self, Header, Data_int, Data_double):\n",
        "        self.Header = Header\n",
        "        self.Data_int = Data_int\n",
        "        self.Data_double = Data_double\n",
        "\n",
        "class TitanVault:\n",
        "\n",
        "    def __init__(self, DataBaseName):\n",
        "        self.DataBaseName = DataBaseName\n",
        "        self.CreatedDate = dt.datetime.now()\n",
        "        self.Base = []\n",
        "\n",
        "    def __del__(self):\n",
        "        pass\n",
        "\n",
        "    def newStruct(self):\n",
        "        self.Structure = Struct()\n",
        "        self.Base.append(self.Structure)\n",
        "        return self.Structure\n",
        "\n",
        "    def pop(self, index):\n",
        "        del self.Base[index]\n",
        "\n",
        "class Cursor:\n",
        "\n",
        "    db = 0\n",
        "    dbs = []\n",
        "\n",
        "    @classmethod\n",
        "    def About(cls):\n",
        "        print(f\"Database(s) in database list : {len(cls.dbs)}\")\n",
        "\n",
        "        for database in cls.dbs:\n",
        "            print(f\"All database(s) : {database}\")\n",
        "\n",
        "    \"\"\"\n",
        "\n",
        "    | Document |\n",
        "\n",
        "    01. Create a new database.\n",
        "    >>>\n",
        "\n",
        "    02. Utilize it.\n",
        "    >>>\n",
        "\n",
        "    \"\"\"\n",
        "\n",
        "    def __init__(self, Name, cnt=1):\n",
        "        for i in range(cnt):\n",
        "            self.db += 1\n",
        "            titanvault = TitanVault(Name)\n",
        "            self.dbs.append(titanvault)\n",
        "            print(f\"Created new database(s) | {titanvault} | Database can be controled by methods.\\n\")\n",
        "        print(f\"Created database(s) : {self.db} | Length of database list : {len(self.dbs)}\")\n",
        "\n",
        "    def __del__(self):\n",
        "        pass\n",
        "\n",
        "    def information(self):\n",
        "        index = 0\n",
        "\n",
        "        for element in self.dbs:\n",
        "            print(f\"Informations of each database :\\nDatabse list index [{index}] | Database name : {element.DataBaseName} | Created date : {element.CreatedDate}\")\n",
        "            index+=1\n",
        "\n",
        "    def insert(self, index, header, data_int, data_double):\n",
        "        new_Struct = self.dbs[index].newStruct()\n",
        "        print(type(new_Struct))\n",
        "        new_Struct.push(header, data_int, data_double)\n",
        "        return new_Struct\n",
        "\n",
        "    def pop(self, index):\n",
        "        del self.dbs[index]\n",
        "        print(\"Successfully deleted.\")"
      ]
    },
    {
      "cell_type": "code",
      "source": [
        "Titan1 = TitanVault('titan1')\n",
        "Titan1.DataBaseName\n",
        "Titan1.CreatedDate\n",
        "Titan1.newStruct()\n",
        "Titan1.Base[0].push(10, 64, 0.5)\n",
        "\n",
        "print(len(Titan1.Base))\n",
        "\n",
        "Titan1.newStruct()\n",
        "Titan1.Base[1].push(20, 128, 1.0)\n",
        "\n",
        "print(len(Titan1.Base))\n",
        "\n",
        "# Checking each Struct\n",
        "#Titan1.Base[0].Header; Titan1.Base[0].Data_int; Titan1.Base[0].Data_double\n",
        "#Titan1.Base[1].Header; Titan1.Base[1].Data_int; Titan1.Base[1].Data_double\n",
        "\n",
        "Titan1.pop(0)\n",
        "print(len(Titan1.Base))"
      ],
      "metadata": {
        "id": "ZsAp8urJVLn0",
        "colab": {
          "base_uri": "https://localhost:8080/"
        },
        "outputId": "e3750b69-7293-427a-d9be-7de90add7f77"
      },
      "execution_count": 2,
      "outputs": [
        {
          "output_type": "stream",
          "name": "stdout",
          "text": [
            "1\n",
            "2\n",
            "1\n"
          ]
        }
      ]
    },
    {
      "cell_type": "code",
      "source": [
        "Titan2 = TitanVault('titan2')\n",
        "Titan2.DataBaseName\n",
        "Titan2.CreatedDate\n",
        "Titan2.newStruct()\n",
        "Titan2.Base[0].push(5, 32, 0.25)\n",
        "\n",
        "print(len(Titan2.Base))\n",
        "\n",
        "Titan2.newStruct()\n",
        "Titan2.Base[1].push(2, 16, 0.12)\n",
        "\n",
        "print(len(Titan2.Base))\n",
        "\n",
        "# Checking each Struct\n",
        "#Titan2.Base[0].Header; Titan2.Base[0].Data_int; Titan2.Base[0].Data_double\n",
        "#Titan2.Base[1].Header; Titan2.Base[1].Data_int; Titan2.Base[1].Data_double\n",
        "\n",
        "Titan2.pop(0)\n",
        "print(len(Titan2.Base))"
      ],
      "metadata": {
        "colab": {
          "base_uri": "https://localhost:8080/"
        },
        "id": "wxpnpNQJOSlF",
        "outputId": "a4b76d9c-b7c0-47eb-dae8-ff1b4ac07666"
      },
      "execution_count": 3,
      "outputs": [
        {
          "output_type": "stream",
          "name": "stdout",
          "text": [
            "1\n",
            "2\n",
            "1\n"
          ]
        }
      ]
    },
    {
      "cell_type": "code",
      "source": [
        "test1 = Cursor('titan1')\n",
        "test1.information()\n",
        "test1.insert(0, 1, 2, 3.14)"
      ],
      "metadata": {
        "colab": {
          "base_uri": "https://localhost:8080/"
        },
        "id": "CFlfCdPMYoWX",
        "outputId": "35492927-b19e-4155-d3c9-ae3b56394cc6"
      },
      "execution_count": 4,
      "outputs": [
        {
          "output_type": "stream",
          "name": "stdout",
          "text": [
            "Created new database(s) | <__main__.TitanVault object at 0x7866ffd5da20> | Database can be controled by methods.\n",
            "\n",
            "Created database(s) : 1 | Length of database list : 1\n",
            "Informations of each database :\n",
            "Databse list index [0] | Database name : titan1 | Created date : 2023-12-18 05:54:07.788692\n",
            "<class '__main__.Struct'>\n"
          ]
        },
        {
          "output_type": "execute_result",
          "data": {
            "text/plain": [
              "<__main__.Struct at 0x7866ffd09dc0>"
            ]
          },
          "metadata": {},
          "execution_count": 4
        }
      ]
    },
    {
      "cell_type": "code",
      "source": [
        "test2 = Cursor('titan2')\n",
        "test2.information()\n",
        "test2.insert(1, 2, 3, 4.25)"
      ],
      "metadata": {
        "colab": {
          "base_uri": "https://localhost:8080/"
        },
        "id": "Y07PU2Ab7u0t",
        "outputId": "2f2b8df0-c8fc-42f1-dbb8-6a91a3c8f1c1"
      },
      "execution_count": 5,
      "outputs": [
        {
          "output_type": "stream",
          "name": "stdout",
          "text": [
            "Created new database(s) | <__main__.TitanVault object at 0x7866ffd5d6c0> | Database can be controled by methods.\n",
            "\n",
            "Created database(s) : 1 | Length of database list : 2\n",
            "Informations of each database :\n",
            "Databse list index [0] | Database name : titan1 | Created date : 2023-12-18 05:54:07.788692\n",
            "Informations of each database :\n",
            "Databse list index [1] | Database name : titan2 | Created date : 2023-12-18 05:54:07.804714\n",
            "<class '__main__.Struct'>\n"
          ]
        },
        {
          "output_type": "execute_result",
          "data": {
            "text/plain": [
              "<__main__.Struct at 0x7866ffd08e40>"
            ]
          },
          "metadata": {},
          "execution_count": 5
        }
      ]
    },
    {
      "cell_type": "code",
      "source": [
        "test3 = Cursor('titan3')\n",
        "test3.About()\n",
        "test3.pop(0)\n",
        "test3.About()"
      ],
      "metadata": {
        "colab": {
          "base_uri": "https://localhost:8080/"
        },
        "id": "O7mYkMut76Ps",
        "outputId": "66a09910-f7f4-44bb-e472-66236f1d04cb"
      },
      "execution_count": 6,
      "outputs": [
        {
          "output_type": "stream",
          "name": "stdout",
          "text": [
            "Created new database(s) | <__main__.TitanVault object at 0x7866ffd5c850> | Database can be controled by methods.\n",
            "\n",
            "Created database(s) : 1 | Length of database list : 3\n",
            "Database(s) in database list : 3\n",
            "All database(s) : <__main__.TitanVault object at 0x7866ffd5da20>\n",
            "All database(s) : <__main__.TitanVault object at 0x7866ffd5d6c0>\n",
            "All database(s) : <__main__.TitanVault object at 0x7866ffd5c850>\n",
            "Successfully deleted.\n",
            "Database(s) in database list : 2\n",
            "All database(s) : <__main__.TitanVault object at 0x7866ffd5d6c0>\n",
            "All database(s) : <__main__.TitanVault object at 0x7866ffd5c850>\n"
          ]
        }
      ]
    },
    {
      "cell_type": "code",
      "source": [
        "class DataBase:\n",
        "\n",
        "    Objects = []\n",
        "\n",
        "    @classmethod\n",
        "    def print_list(cls):\n",
        "        print(f\"{len(cls.Objects)} | {cls.Objects[:]}\")\n",
        "\n",
        "    def __init__(self, DataBaseName):\n",
        "        self.DataBaseName = DataBaseName\n",
        "        self.Base = []\n",
        "        self.Objects.append(self)\n",
        "        self.print_list()\n",
        "\n",
        "    def __del__(self):\n",
        "        del self.Base[:]\n",
        "\n",
        "    def newElement(self, element):\n",
        "        self.Base.append(element)\n",
        "\n",
        "Object_1 = DataBase('DB1')\n",
        "Object_2 = DataBase('DB2')\n",
        "Object_3 = DataBase('DB3')"
      ],
      "metadata": {
        "colab": {
          "base_uri": "https://localhost:8080/"
        },
        "id": "6Ch0yi64KTG9",
        "outputId": "60714600-e255-435f-f634-482e018934c2"
      },
      "execution_count": 7,
      "outputs": [
        {
          "output_type": "stream",
          "name": "stdout",
          "text": [
            "1 | [<__main__.DataBase object at 0x7866ffd5cb80>]\n",
            "2 | [<__main__.DataBase object at 0x7866ffd5cb80>, <__main__.DataBase object at 0x7866ffd5e7a0>]\n",
            "3 | [<__main__.DataBase object at 0x7866ffd5cb80>, <__main__.DataBase object at 0x7866ffd5e7a0>, <__main__.DataBase object at 0x7866ffd5e110>]\n"
          ]
        }
      ]
    }
  ]
}