{
  "nbformat": 4,
  "nbformat_minor": 0,
  "metadata": {
    "colab": {
      "provenance": [],
      "authorship_tag": "ABX9TyMg/dNyJKjx+IC4GwbzWygf",
      "include_colab_link": true
    },
    "kernelspec": {
      "name": "python3",
      "display_name": "Python 3"
    },
    "language_info": {
      "name": "python"
    }
  },
  "cells": [
    {
      "cell_type": "markdown",
      "metadata": {
        "id": "view-in-github",
        "colab_type": "text"
      },
      "source": [
        "<a href=\"https://colab.research.google.com/github/CharmStrange/CoLab_data/blob/main/ipynbs/DataBase/CustomDB.ipynb\" target=\"_parent\"><img src=\"https://colab.research.google.com/assets/colab-badge.svg\" alt=\"Open In Colab\"/></a>"
      ]
    },
    {
      "cell_type": "markdown",
      "source": [
        "# Custom Database\n"
      ],
      "metadata": {
        "id": "5doMEUq0Eo73"
      }
    },
    {
      "cell_type": "code",
      "execution_count": 38,
      "metadata": {
        "id": "pf0He8-EEXOu"
      },
      "outputs": [],
      "source": [
        "import os\n",
        "import datetime as dt\n",
        "import ctypes as ct\n",
        "import sqlite3\n",
        "\n",
        "class Struct(ct.Structure):\n",
        "    _fields_ = [\n",
        "        ('Header', ct.c_short),\n",
        "        ('Data_int', ct.c_int),\n",
        "        ('Data_double', ct.c_double)\n",
        "               ]\n",
        "\n",
        "class TitanVault:\n",
        "\n",
        "    def __init__(self, DataBaseName):\n",
        "        self.DataBaseName = DataBaseName\n",
        "        self.CreatedDate = dt.datetime.now()\n",
        "        self.Structure = Struct()\n",
        "\n",
        "    def __del__(self):\n",
        "        pass\n",
        "\n",
        "    def push(self, Header, Data_int, Data_double):\n",
        "        self.Structure.Header = Header\n",
        "        self.Structure.Data_int = Data_int\n",
        "        self.Structure.Data_double = Data_double\n",
        "\n",
        "    def pop(self):\n",
        "        pass\n",
        "\n",
        "    def method_3(self):\n",
        "        pass\n",
        "\n",
        "    def method_4(self):\n",
        "        pass\n",
        "\n",
        "    def method_5(self):\n",
        "        pass\n",
        "\n",
        "    pass"
      ]
    },
    {
      "cell_type": "code",
      "source": [
        "Titan1 = TitanVault('titan1')\n",
        "Titan1.DataBaseName\n",
        "Titan1.CreatedDate\n",
        "Titan1.push(10, 64, 0.5)\n",
        "Titan1.Structure.Header; Titan1.Structure.Data_int; Titan1.Structure.Data_double;"
      ],
      "metadata": {
        "id": "ZsAp8urJVLn0"
      },
      "execution_count": 42,
      "outputs": []
    }
  ]
}