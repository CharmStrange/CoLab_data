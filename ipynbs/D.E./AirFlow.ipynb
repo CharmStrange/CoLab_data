{
  "nbformat": 4,
  "nbformat_minor": 0,
  "metadata": {
    "colab": {
      "provenance": [],
      "authorship_tag": "ABX9TyN6PGAvGg9kdGvNOE9+DEy4",
      "include_colab_link": true
    },
    "kernelspec": {
      "name": "python3",
      "display_name": "Python 3"
    },
    "language_info": {
      "name": "python"
    }
  },
  "cells": [
    {
      "cell_type": "markdown",
      "metadata": {
        "id": "view-in-github",
        "colab_type": "text"
      },
      "source": [
        "<a href=\"https://colab.research.google.com/github/CharmStrange/CoLab_data/blob/main/ipynbs/D.E./AirFlow.ipynb\" target=\"_parent\"><img src=\"https://colab.research.google.com/assets/colab-badge.svg\" alt=\"Open In Colab\"/></a>"
      ]
    },
    {
      "cell_type": "code",
      "execution_count": null,
      "metadata": {
        "id": "3L4yOpgiYbsF"
      },
      "outputs": [],
      "source": [
        "%pip install \"apache-airflow[celery]==2.7.1\" --constraint \"https://raw.githubusercontent.com/apache/airflow/constraints-2.7.1/constraints-3.8.txt\"\n",
        "%pip install \"apache-airflow==2.7.1\" apache-airflow-providers-google==10.1.0"
      ]
    },
    {
      "cell_type": "code",
      "source": [
        "import os\n",
        "\n",
        "from datetime import datetime, timedelta\n",
        "\n",
        "from airflow import DAG\n",
        "from airflow.operators.bash_operator import BashOperator\n",
        "from airflow.operators.python_operator import PythonOperator\n",
        "\n",
        "DATA_FOLDER = \"data\"\n",
        "\n",
        "\n",
        "def decorate_file(input_path, output_path):\n",
        "    with open(input_path, \"r\") as in_file:\n",
        "        line = in_file.read()\n",
        "\n",
        "    with open(output_path, \"w\") as out_file:\n",
        "        out_file.write(\"My \"+line)\n",
        "\n",
        "\n",
        "default_args = {\n",
        "    \"owner\": \"lorenzo\",\n",
        "    \"depends_on_past\": False,\n",
        "    \"start_date\": datetime(2018, 9, 20),\n",
        "    \"email\": [\"l.peppoloni@gmail.com\"],\n",
        "    \"email_on_failure\": False,\n",
        "    \"email_on_retry\": False,\n",
        "    \"retries\": 0,\n",
        "}\n",
        "\n",
        "\n",
        "dag = DAG(\n",
        "    \"multiple_files_dag\",\n",
        "    default_args=default_args,\n",
        "    schedule_interval=\"0 12 * * *\",\n",
        "    )\n",
        "\n",
        "for i in range(10):\n",
        "    output_one_path = os.path.join(DATA_FOLDER, \"output_one_{:d}.txt\".format(i))\n",
        "    output_two_path = os.path.join(DATA_FOLDER, \"output_two_{:d}.txt\".format(i))\n",
        "\n",
        "    t1 = BashOperator(\n",
        "        task_id=\"print_file_{:d}\".format(i),\n",
        "        bash_command='echo \"pipeline\" > {}'.format(output_one_path),\n",
        "        dag=dag)\n",
        "\n",
        "    t2 = PythonOperator(\n",
        "        task_id=\"decorate_file_{:d}\".format(i),\n",
        "        python_callable=decorate_file,\n",
        "        op_kwargs={\"input_path\": output_one_path, \"output_path\": output_two_path},\n",
        "        dag=dag)\n",
        "\n",
        "    t2.set_upstream(t1)"
      ],
      "metadata": {
        "colab": {
          "base_uri": "https://localhost:8080/",
          "height": 115
        },
        "id": "pUwyCiCXYxLq",
        "outputId": "1b8bb883-ede2-428b-d2d1-92d9716ab42b"
      },
      "execution_count": 2,
      "outputs": [
        {
          "output_type": "display_data",
          "data": {
            "text/plain": [
              "\u001b[1;33m<\u001b[0m\u001b[1;33mipython-input-\u001b[0m\u001b[1;33m2\u001b[0m\u001b[1;33m-9a97bf721742\u001b[0m\u001b[1;33m>\u001b[0m\u001b[1;33m:\u001b[0m\u001b[1;33m6\u001b[0m\u001b[1;33m DeprecationWarning\u001b[0m\u001b[33m: The `airflow.operators.bash_operator.BashOperator` class is deprecated. Please use `\u001b[0m\u001b[33m'airflow.operators.bash.BashOperator'\u001b[0m\u001b[33m`.\u001b[0m\n"
            ],
            "text/html": [
              "<pre style=\"white-space:pre;overflow-x:auto;line-height:normal;font-family:Menlo,'DejaVu Sans Mono',consolas,'Courier New',monospace\"><span style=\"color: #808000; text-decoration-color: #808000; font-weight: bold\">&lt;ipython-input-</span><span style=\"color: #808000; text-decoration-color: #808000; font-weight: bold\">2</span><span style=\"color: #808000; text-decoration-color: #808000; font-weight: bold\">-9a97bf721742&gt;:</span><span style=\"color: #808000; text-decoration-color: #808000; font-weight: bold\">6</span><span style=\"color: #808000; text-decoration-color: #808000; font-weight: bold\"> DeprecationWarning</span><span style=\"color: #808000; text-decoration-color: #808000\">: The `airflow.operators.bash_operator.BashOperator` class is deprecated. Please use `</span><span style=\"color: #808000; text-decoration-color: #808000\">'airflow.operators.bash.BashOperator'</span><span style=\"color: #808000; text-decoration-color: #808000\">`.</span>\n",
              "</pre>\n"
            ]
          },
          "metadata": {}
        },
        {
          "output_type": "display_data",
          "data": {
            "text/plain": [
              "\u001b[1;33m<\u001b[0m\u001b[1;33mipython-input-\u001b[0m\u001b[1;33m2\u001b[0m\u001b[1;33m-9a97bf721742\u001b[0m\u001b[1;33m>\u001b[0m\u001b[1;33m:\u001b[0m\u001b[1;33m7\u001b[0m\u001b[1;33m DeprecationWarning\u001b[0m\u001b[33m: The `airflow.operators.python_operator.PythonOperator` class is deprecated. Please use `\u001b[0m\u001b[33m'airflow.operators.python.PythonOperator'\u001b[0m\u001b[33m`.\u001b[0m\n"
            ],
            "text/html": [
              "<pre style=\"white-space:pre;overflow-x:auto;line-height:normal;font-family:Menlo,'DejaVu Sans Mono',consolas,'Courier New',monospace\"><span style=\"color: #808000; text-decoration-color: #808000; font-weight: bold\">&lt;ipython-input-</span><span style=\"color: #808000; text-decoration-color: #808000; font-weight: bold\">2</span><span style=\"color: #808000; text-decoration-color: #808000; font-weight: bold\">-9a97bf721742&gt;:</span><span style=\"color: #808000; text-decoration-color: #808000; font-weight: bold\">7</span><span style=\"color: #808000; text-decoration-color: #808000; font-weight: bold\"> DeprecationWarning</span><span style=\"color: #808000; text-decoration-color: #808000\">: The `airflow.operators.python_operator.PythonOperator` class is deprecated. Please use `</span><span style=\"color: #808000; text-decoration-color: #808000\">'airflow.operators.python.PythonOperator'</span><span style=\"color: #808000; text-decoration-color: #808000\">`.</span>\n",
              "</pre>\n"
            ]
          },
          "metadata": {}
        },
        {
          "output_type": "display_data",
          "data": {
            "text/plain": [
              "\u001b[1;33m<\u001b[0m\u001b[1;33mipython-input-\u001b[0m\u001b[1;33m2\u001b[0m\u001b[1;33m-9a97bf721742\u001b[0m\u001b[1;33m>\u001b[0m\u001b[1;33m:\u001b[0m\u001b[1;33m31\u001b[0m\u001b[1;33m RemovedInAirflow3Warning\u001b[0m\u001b[33m: Param `schedule_interval` is deprecated and will be removed in a future release. Please use `schedule` instead.\u001b[0m\n"
            ],
            "text/html": [
              "<pre style=\"white-space:pre;overflow-x:auto;line-height:normal;font-family:Menlo,'DejaVu Sans Mono',consolas,'Courier New',monospace\"><span style=\"color: #808000; text-decoration-color: #808000; font-weight: bold\">&lt;ipython-input-</span><span style=\"color: #808000; text-decoration-color: #808000; font-weight: bold\">2</span><span style=\"color: #808000; text-decoration-color: #808000; font-weight: bold\">-9a97bf721742&gt;:</span><span style=\"color: #808000; text-decoration-color: #808000; font-weight: bold\">31</span><span style=\"color: #808000; text-decoration-color: #808000; font-weight: bold\"> RemovedInAirflow3Warning</span><span style=\"color: #808000; text-decoration-color: #808000\">: Param `schedule_interval` is deprecated and will be removed in a future release. Please use `schedule` instead.</span>\n",
              "</pre>\n"
            ]
          },
          "metadata": {}
        }
      ]
    },
    {
      "cell_type": "markdown",
      "source": [
        "DAG를 정의하고 초기화하고 DAG에서 사용될 두 연산자 `BashOperator`와 `PythonOperator` 추가.\n",
        "\n",
        "---\n",
        "\n",
        "여러 파일이 포함된 병렬 DAG AirFlow"
      ],
      "metadata": {
        "id": "8Rk96Enh-xT6"
      }
    },
    {
      "cell_type": "code",
      "source": [
        "import os\n",
        "\n",
        "from datetime import datetime, timedelta\n",
        "\n",
        "from airflow import DAG\n",
        "from airflow.operators.bash_operator import BashOperator\n",
        "from airflow.operators.python_operator import PythonOperator\n",
        "\n",
        "DATA_FOLDER = \"data\"\n",
        "\n",
        "\n",
        "def decorate_file(input_path, output_path):\n",
        "    with open(input_path, \"r\") as in_file:\n",
        "        line = in_file.read()\n",
        "\n",
        "    with open(output_path, \"w\") as out_file:\n",
        "        out_file.write(\"My \"+line)\n",
        "\n",
        "\n",
        "default_args = {\n",
        "    \"owner\": \"lorenzo\",\n",
        "    \"depends_on_past\": False,\n",
        "    \"start_date\": datetime(2018, 9, 20),\n",
        "    \"email\": [\"l.peppoloni@gmail.com\"],\n",
        "    \"email_on_failure\": False,\n",
        "    \"email_on_retry\": False,\n",
        "    \"retries\": 0,\n",
        "}\n",
        "\n",
        "\n",
        "dag = DAG(\n",
        "    \"multiple_files_dag\",\n",
        "    default_args=default_args,\n",
        "    schedule_interval=\"0 12 * * *\",\n",
        "    )\n",
        "\n",
        "for i in range(10):\n",
        "    output_one_path = os.path.join(DATA_FOLDER, \"output_one_{:d}.txt\".format(i))\n",
        "    output_two_path = os.path.join(DATA_FOLDER, \"output_two_{:d}.txt\".format(i))\n",
        "\n",
        "    t1 = BashOperator(\n",
        "        task_id=\"print_file_{:d}\".format(i),\n",
        "        bash_command='echo \"pipeline\" > {}'.format(output_one_path),\n",
        "        dag=dag)\n",
        "\n",
        "    t2 = PythonOperator(\n",
        "        task_id=\"decorate_file_{:d}\".format(i),\n",
        "        python_callable=decorate_file,\n",
        "        op_kwargs={\"input_path\": output_one_path, \"output_path\": output_two_path},\n",
        "        dag=dag)\n",
        "\n",
        "    t2.set_upstream(t1)"
      ],
      "metadata": {
        "colab": {
          "base_uri": "https://localhost:8080/",
          "height": 115
        },
        "id": "EEuUjhxW_GTU",
        "outputId": "4e19d32d-b14c-40f8-d84e-9ca575523f12"
      },
      "execution_count": 3,
      "outputs": [
        {
          "output_type": "display_data",
          "data": {
            "text/plain": [
              "\u001b[1;33m<\u001b[0m\u001b[1;33mipython-input-\u001b[0m\u001b[1;33m3\u001b[0m\u001b[1;33m-9a97bf721742\u001b[0m\u001b[1;33m>\u001b[0m\u001b[1;33m:\u001b[0m\u001b[1;33m6\u001b[0m\u001b[1;33m DeprecationWarning\u001b[0m\u001b[33m: The `airflow.operators.bash_operator.BashOperator` class is deprecated. Please use `\u001b[0m\u001b[33m'airflow.operators.bash.BashOperator'\u001b[0m\u001b[33m`.\u001b[0m\n"
            ],
            "text/html": [
              "<pre style=\"white-space:pre;overflow-x:auto;line-height:normal;font-family:Menlo,'DejaVu Sans Mono',consolas,'Courier New',monospace\"><span style=\"color: #808000; text-decoration-color: #808000; font-weight: bold\">&lt;ipython-input-</span><span style=\"color: #808000; text-decoration-color: #808000; font-weight: bold\">3</span><span style=\"color: #808000; text-decoration-color: #808000; font-weight: bold\">-9a97bf721742&gt;:</span><span style=\"color: #808000; text-decoration-color: #808000; font-weight: bold\">6</span><span style=\"color: #808000; text-decoration-color: #808000; font-weight: bold\"> DeprecationWarning</span><span style=\"color: #808000; text-decoration-color: #808000\">: The `airflow.operators.bash_operator.BashOperator` class is deprecated. Please use `</span><span style=\"color: #808000; text-decoration-color: #808000\">'airflow.operators.bash.BashOperator'</span><span style=\"color: #808000; text-decoration-color: #808000\">`.</span>\n",
              "</pre>\n"
            ]
          },
          "metadata": {}
        },
        {
          "output_type": "display_data",
          "data": {
            "text/plain": [
              "\u001b[1;33m<\u001b[0m\u001b[1;33mipython-input-\u001b[0m\u001b[1;33m3\u001b[0m\u001b[1;33m-9a97bf721742\u001b[0m\u001b[1;33m>\u001b[0m\u001b[1;33m:\u001b[0m\u001b[1;33m7\u001b[0m\u001b[1;33m DeprecationWarning\u001b[0m\u001b[33m: The `airflow.operators.python_operator.PythonOperator` class is deprecated. Please use `\u001b[0m\u001b[33m'airflow.operators.python.PythonOperator'\u001b[0m\u001b[33m`.\u001b[0m\n"
            ],
            "text/html": [
              "<pre style=\"white-space:pre;overflow-x:auto;line-height:normal;font-family:Menlo,'DejaVu Sans Mono',consolas,'Courier New',monospace\"><span style=\"color: #808000; text-decoration-color: #808000; font-weight: bold\">&lt;ipython-input-</span><span style=\"color: #808000; text-decoration-color: #808000; font-weight: bold\">3</span><span style=\"color: #808000; text-decoration-color: #808000; font-weight: bold\">-9a97bf721742&gt;:</span><span style=\"color: #808000; text-decoration-color: #808000; font-weight: bold\">7</span><span style=\"color: #808000; text-decoration-color: #808000; font-weight: bold\"> DeprecationWarning</span><span style=\"color: #808000; text-decoration-color: #808000\">: The `airflow.operators.python_operator.PythonOperator` class is deprecated. Please use `</span><span style=\"color: #808000; text-decoration-color: #808000\">'airflow.operators.python.PythonOperator'</span><span style=\"color: #808000; text-decoration-color: #808000\">`.</span>\n",
              "</pre>\n"
            ]
          },
          "metadata": {}
        },
        {
          "output_type": "display_data",
          "data": {
            "text/plain": [
              "\u001b[1;33m<\u001b[0m\u001b[1;33mipython-input-\u001b[0m\u001b[1;33m3\u001b[0m\u001b[1;33m-9a97bf721742\u001b[0m\u001b[1;33m>\u001b[0m\u001b[1;33m:\u001b[0m\u001b[1;33m31\u001b[0m\u001b[1;33m RemovedInAirflow3Warning\u001b[0m\u001b[33m: Param `schedule_interval` is deprecated and will be removed in a future release. Please use `schedule` instead.\u001b[0m\n"
            ],
            "text/html": [
              "<pre style=\"white-space:pre;overflow-x:auto;line-height:normal;font-family:Menlo,'DejaVu Sans Mono',consolas,'Courier New',monospace\"><span style=\"color: #808000; text-decoration-color: #808000; font-weight: bold\">&lt;ipython-input-</span><span style=\"color: #808000; text-decoration-color: #808000; font-weight: bold\">3</span><span style=\"color: #808000; text-decoration-color: #808000; font-weight: bold\">-9a97bf721742&gt;:</span><span style=\"color: #808000; text-decoration-color: #808000; font-weight: bold\">31</span><span style=\"color: #808000; text-decoration-color: #808000; font-weight: bold\"> RemovedInAirflow3Warning</span><span style=\"color: #808000; text-decoration-color: #808000\">: Param `schedule_interval` is deprecated and will be removed in a future release. Please use `schedule` instead.</span>\n",
              "</pre>\n"
            ]
          },
          "metadata": {}
        }
      ]
    }
  ]
}