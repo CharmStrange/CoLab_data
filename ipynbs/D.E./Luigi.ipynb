{
  "nbformat": 4,
  "nbformat_minor": 0,
  "metadata": {
    "colab": {
      "provenance": [],
      "authorship_tag": "ABX9TyOI4BQHBx/mDvY7jznU8ZRU",
      "include_colab_link": true
    },
    "kernelspec": {
      "name": "python3",
      "display_name": "Python 3"
    },
    "language_info": {
      "name": "python"
    }
  },
  "cells": [
    {
      "cell_type": "markdown",
      "metadata": {
        "id": "view-in-github",
        "colab_type": "text"
      },
      "source": [
        "<a href=\"https://colab.research.google.com/github/CharmStrange/CoLab_data/blob/main/ipynbs/D.E./Luigi.ipynb\" target=\"_parent\"><img src=\"https://colab.research.google.com/assets/colab-badge.svg\" alt=\"Open In Colab\"/></a>"
      ]
    },
    {
      "cell_type": "code",
      "execution_count": 1,
      "metadata": {
        "colab": {
          "base_uri": "https://localhost:8080/"
        },
        "id": "Gt6OcDkWacJd",
        "outputId": "7b1f6863-715b-4414-de88-4d473965ad43"
      },
      "outputs": [
        {
          "output_type": "stream",
          "name": "stdout",
          "text": [
            "Collecting luigi\n",
            "  Downloading luigi-3.4.0.tar.gz (1.2 MB)\n",
            "\u001b[?25l     \u001b[90m━━━━━━━━━━━━━━━━━━━━━━━━━━━━━━━━━━━━━━━━\u001b[0m \u001b[32m0.0/1.2 MB\u001b[0m \u001b[31m?\u001b[0m eta \u001b[36m-:--:--\u001b[0m\r\u001b[2K     \u001b[91m━━━\u001b[0m\u001b[90m╺\u001b[0m\u001b[90m━━━━━━━━━━━━━━━━━━━━━━━━━━━━━━━━━━━━\u001b[0m \u001b[32m0.1/1.2 MB\u001b[0m \u001b[31m2.8 MB/s\u001b[0m eta \u001b[36m0:00:01\u001b[0m\r\u001b[2K     \u001b[91m━━━━━━━━━━━━━━━━━━━━━━━━━━━━━━\u001b[0m\u001b[90m╺\u001b[0m\u001b[90m━━━━━━━━━\u001b[0m \u001b[32m0.9/1.2 MB\u001b[0m \u001b[31m13.3 MB/s\u001b[0m eta \u001b[36m0:00:01\u001b[0m\r\u001b[2K     \u001b[90m━━━━━━━━━━━━━━━━━━━━━━━━━━━━━━━━━━━━━━━━\u001b[0m \u001b[32m1.2/1.2 MB\u001b[0m \u001b[31m13.7 MB/s\u001b[0m eta \u001b[36m0:00:00\u001b[0m\n",
            "\u001b[?25h  Preparing metadata (setup.py) ... \u001b[?25l\u001b[?25hdone\n",
            "Requirement already satisfied: python-dateutil<3,>=2.7.5 in /usr/local/lib/python3.10/dist-packages (from luigi) (2.8.2)\n",
            "Requirement already satisfied: tenacity<9,>=8 in /usr/local/lib/python3.10/dist-packages (from luigi) (8.2.3)\n",
            "Collecting python-daemon (from luigi)\n",
            "  Downloading python_daemon-3.0.1-py3-none-any.whl (31 kB)\n",
            "Requirement already satisfied: tornado<7,>=5.0 in /usr/local/lib/python3.10/dist-packages (from luigi) (6.3.2)\n",
            "Requirement already satisfied: six>=1.5 in /usr/local/lib/python3.10/dist-packages (from python-dateutil<3,>=2.7.5->luigi) (1.16.0)\n",
            "Requirement already satisfied: docutils in /usr/local/lib/python3.10/dist-packages (from python-daemon->luigi) (0.18.1)\n",
            "Collecting lockfile>=0.10 (from python-daemon->luigi)\n",
            "  Downloading lockfile-0.12.2-py2.py3-none-any.whl (13 kB)\n",
            "Requirement already satisfied: setuptools>=62.4.0 in /usr/local/lib/python3.10/dist-packages (from python-daemon->luigi) (67.7.2)\n",
            "Building wheels for collected packages: luigi\n",
            "  Building wheel for luigi (setup.py) ... \u001b[?25l\u001b[?25hdone\n",
            "  Created wheel for luigi: filename=luigi-3.4.0-py3-none-any.whl size=1085379 sha256=0705e9038d5c96133a2cbe9f935e792756f9b6bdf278e2ab36bb0ad771382959\n",
            "  Stored in directory: /root/.cache/pip/wheels/88/8a/ef/e4334a9a7b9355f9a1b0cb1a439a2bead64e74e4330b3a0c12\n",
            "Successfully built luigi\n",
            "Installing collected packages: lockfile, python-daemon, luigi\n",
            "Successfully installed lockfile-0.12.2 luigi-3.4.0 python-daemon-3.0.1\n",
            "Collecting faker\n",
            "  Downloading Faker-19.6.2-py3-none-any.whl (1.7 MB)\n",
            "\u001b[2K     \u001b[90m━━━━━━━━━━━━━━━━━━━━━━━━━━━━━━━━━━━━━━━━\u001b[0m \u001b[32m1.7/1.7 MB\u001b[0m \u001b[31m18.4 MB/s\u001b[0m eta \u001b[36m0:00:00\u001b[0m\n",
            "\u001b[?25hRequirement already satisfied: python-dateutil>=2.4 in /usr/local/lib/python3.10/dist-packages (from faker) (2.8.2)\n",
            "Requirement already satisfied: six>=1.5 in /usr/local/lib/python3.10/dist-packages (from python-dateutil>=2.4->faker) (1.16.0)\n",
            "Installing collected packages: faker\n",
            "Successfully installed faker-19.6.2\n"
          ]
        }
      ],
      "source": [
        "%pip install luigi"
      ]
    },
    {
      "cell_type": "code",
      "source": [
        "import luigi\n",
        "\n",
        "class HelloWorld(luigi.Task):\n",
        "    def requires(self):\n",
        "        return None\n",
        "    def output(self):\n",
        "        return luigi.LocalTarget('helloworld.txt')\n",
        "    def run(self):\n",
        "        with self.output().open('w') as outfile:\n",
        "            outfile.write('Hello World!\\n')\n",
        "\n",
        "class NameSubstituter(luigi.Task):\n",
        "\n",
        "\t# store the contents of luigi.Parameter() in the variable 'name'\n",
        "    name = luigi.Parameter()\n",
        "\n",
        "    # define upstream task\n",
        "    def requires(self):\n",
        "        return HelloWorld()\n",
        "    # define output file, whose name is constructed from the input file\n",
        "    def output(self):\n",
        "        return luigi.LocalTarget(self.input().path + '.name_' + self.name)\n",
        "    # the task to execute: read input file and substitute 'World'\n",
        "    def run(self):\n",
        "        with self.input().open() as infile, self.output().open('w') as outfile:\n",
        "            text = infile.read()\n",
        "            text = text.replace('World', self.name)\n",
        "            outfile.write(text)\n",
        "\n",
        "if __name__ == '__main__':\n",
        "    luigi.build([HelloWorld()], local_scheduler=True)"
      ],
      "metadata": {
        "colab": {
          "base_uri": "https://localhost:8080/"
        },
        "id": "unuzyLLURsgi",
        "outputId": "d5beeaa8-9651-484a-d83c-9cad3c020282"
      },
      "execution_count": 17,
      "outputs": [
        {
          "output_type": "stream",
          "name": "stderr",
          "text": [
            "DEBUG: Checking if HelloWorld() is complete\n",
            "DEBUG:luigi-interface:Checking if HelloWorld() is complete\n",
            "INFO: Informed scheduler that task   HelloWorld__99914b932b   has status   DONE\n",
            "INFO:luigi-interface:Informed scheduler that task   HelloWorld__99914b932b   has status   DONE\n",
            "INFO: Done scheduling tasks\n",
            "INFO:luigi-interface:Done scheduling tasks\n",
            "INFO: Running Worker with 1 processes\n",
            "INFO:luigi-interface:Running Worker with 1 processes\n",
            "DEBUG: Asking scheduler for work...\n",
            "DEBUG:luigi-interface:Asking scheduler for work...\n",
            "DEBUG: Done\n",
            "DEBUG:luigi-interface:Done\n",
            "DEBUG: There are no more tasks to run at this time\n",
            "DEBUG:luigi-interface:There are no more tasks to run at this time\n",
            "INFO: Worker Worker(salt=4021836023, workers=1, host=671b101e3deb, username=root, pid=201) was stopped. Shutting down Keep-Alive thread\n",
            "INFO:luigi-interface:Worker Worker(salt=4021836023, workers=1, host=671b101e3deb, username=root, pid=201) was stopped. Shutting down Keep-Alive thread\n",
            "INFO: \n",
            "===== Luigi Execution Summary =====\n",
            "\n",
            "Scheduled 1 tasks of which:\n",
            "* 1 complete ones were encountered:\n",
            "    - 1 HelloWorld()\n",
            "\n",
            "Did not run any tasks\n",
            "This progress looks :) because there were no failed tasks or missing dependencies\n",
            "\n",
            "===== Luigi Execution Summary =====\n",
            "\n",
            "INFO:luigi-interface:\n",
            "===== Luigi Execution Summary =====\n",
            "\n",
            "Scheduled 1 tasks of which:\n",
            "* 1 complete ones were encountered:\n",
            "    - 1 HelloWorld()\n",
            "\n",
            "Did not run any tasks\n",
            "This progress looks :) because there were no failed tasks or missing dependencies\n",
            "\n",
            "===== Luigi Execution Summary =====\n",
            "\n"
          ]
        }
      ]
    }
  ]
}