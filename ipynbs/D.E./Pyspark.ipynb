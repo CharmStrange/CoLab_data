{
  "nbformat": 4,
  "nbformat_minor": 0,
  "metadata": {
    "colab": {
      "provenance": [],
      "authorship_tag": "ABX9TyNbJiecrnYluFzA7/DLpfK6",
      "include_colab_link": true
    },
    "kernelspec": {
      "name": "python3",
      "display_name": "Python 3"
    },
    "language_info": {
      "name": "python"
    }
  },
  "cells": [
    {
      "cell_type": "markdown",
      "metadata": {
        "id": "view-in-github",
        "colab_type": "text"
      },
      "source": [
        "<a href=\"https://colab.research.google.com/github/CharmStrange/CoLab_data/blob/main/ipynbs/D.E./Pyspark.ipynb\" target=\"_parent\"><img src=\"https://colab.research.google.com/assets/colab-badge.svg\" alt=\"Open In Colab\"/></a>"
      ]
    },
    {
      "cell_type": "code",
      "source": [
        "%pip install pyspark"
      ],
      "metadata": {
        "colab": {
          "base_uri": "https://localhost:8080/"
        },
        "id": "hMrf6n9SAavl",
        "outputId": "1bf988bd-8986-42f8-a6b3-5f8e8cde9d48"
      },
      "execution_count": 6,
      "outputs": [
        {
          "output_type": "stream",
          "name": "stdout",
          "text": [
            "Requirement already satisfied: pyspark in /usr/local/lib/python3.10/dist-packages (3.5.0)\n",
            "Requirement already satisfied: py4j==0.10.9.7 in /usr/local/lib/python3.10/dist-packages (from pyspark) (0.10.9.7)\n"
          ]
        }
      ]
    },
    {
      "cell_type": "code",
      "source": [
        "from pyspark.sql import SparkSession\n",
        "\n",
        "logFile = \"/content/class.md\"  # Should be some file on your system\n",
        "spark = SparkSession.builder.appName(\"SimpleApp\").getOrCreate()\n",
        "logData = spark.read.text(logFile).cache()\n",
        "\n",
        "numAs = logData.filter(logData.value.contains('a')).count()\n",
        "numBs = logData.filter(logData.value.contains('b')).count()\n",
        "\n",
        "print(\"Lines with a: %i, lines with b: %i\" % (numAs, numBs))\n",
        "\n",
        "spark.stop()"
      ],
      "metadata": {
        "colab": {
          "base_uri": "https://localhost:8080/"
        },
        "id": "VSbSyjSuGbub",
        "outputId": "37541451-d5b6-4178-e578-f41c0f763020"
      },
      "execution_count": 15,
      "outputs": [
        {
          "output_type": "stream",
          "name": "stdout",
          "text": [
            "Lines with a: 0, lines with b: 0\n"
          ]
        }
      ]
    }
  ]
}